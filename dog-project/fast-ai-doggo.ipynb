{
 "cells": [
  {
   "cell_type": "markdown",
   "id": "597e08ca-2957-4d1f-8aa1-ced38cade0f0",
   "metadata": {},
   "source": [
    "# Identify Dog breed using deep learning\n",
    "\n",
    "Re-implement this project: https://github.com/besson/ds-capstone-project/tree/master/dog-project using fast.ai\n",
    "It covers:\n",
    "\n",
    "1. Download dog images\n",
    "2. Create ImageDataLoader; the training and validation datasets\n",
    "3. Set-up the Network architecture based on Resnet34\n",
    "4. Apply transfer learning"
   ]
  },
  {
   "cell_type": "code",
   "execution_count": 1,
   "id": "b3c336de-3bc3-41e0-8e70-f89dba2e2afc",
   "metadata": {},
   "outputs": [],
   "source": [
    "from fastbook import *\n",
    "\n",
    "from PIL import ImageFile\n",
    "ImageFile.LOAD_TRUNCATED_IMAGES = True"
   ]
  },
  {
   "cell_type": "markdown",
   "id": "7888dca4-7a17-4194-aa45-747ec52cac7f",
   "metadata": {},
   "source": [
    "## 1. Download images"
   ]
  },
  {
   "cell_type": "code",
   "execution_count": 2,
   "id": "ee1ba6d1-e01e-4bba-8d79-63fc82cf33b5",
   "metadata": {},
   "outputs": [],
   "source": [
    "# Set path for loading the images from\n",
    "url = \"https://s3-us-west-1.amazonaws.com/udacity-aind/dog-project/dogImages.zip\"\n",
    "path = untar_data(url)/'train'"
   ]
  },
  {
   "cell_type": "markdown",
   "id": "4650defb-3250-4dc9-8080-463d2042f511",
   "metadata": {},
   "source": [
    "### where are the files saved?"
   ]
  },
  {
   "cell_type": "code",
   "execution_count": 3,
   "id": "9bae7a66-1e02-4999-8a6f-fb5e9f1acec7",
   "metadata": {},
   "outputs": [
    {
     "data": {
      "text/plain": [
       "'/storage/data'"
      ]
     },
     "execution_count": 3,
     "metadata": {},
     "output_type": "execute_result"
    }
   ],
   "source": [
    "fastai_cfg().data"
   ]
  },
  {
   "cell_type": "code",
   "execution_count": 4,
   "id": "1594ebbf-91fa-4590-90ca-034e6308c699",
   "metadata": {},
   "outputs": [
    {
     "name": "stdout",
     "output_type": "stream",
     "text": [
      "train  valid\n"
     ]
    }
   ],
   "source": [
    "!ls /storage/data/dogImages/"
   ]
  },
  {
   "cell_type": "code",
   "execution_count": 5,
   "id": "faef5675-df14-48d3-89bb-6c5070cb5f2e",
   "metadata": {},
   "outputs": [
    {
     "name": "stdout",
     "output_type": "stream",
     "text": [
      "Dachshund_03922.jpg  Dachshund_03948.jpg  Dachshund_03975.jpg\n",
      "Dachshund_03923.jpg  Dachshund_03949.jpg  Dachshund_03976.jpg\n",
      "Dachshund_03924.jpg  Dachshund_03950.jpg  Dachshund_03977.jpg\n",
      "Dachshund_03925.jpg  Dachshund_03951.jpg  Dachshund_03978.jpg\n",
      "Dachshund_03927.jpg  Dachshund_03952.jpg  Dachshund_03979.jpg\n",
      "Dachshund_03928.jpg  Dachshund_03954.jpg  Dachshund_03980.jpg\n",
      "Dachshund_03930.jpg  Dachshund_03955.jpg  Dachshund_03982.jpg\n",
      "Dachshund_03931.jpg  Dachshund_03956.jpg  Dachshund_03983.jpg\n",
      "Dachshund_03932.jpg  Dachshund_03957.jpg  Dachshund_03984.jpg\n",
      "Dachshund_03933.jpg  Dachshund_03958.jpg  Dachshund_03986.jpg\n",
      "Dachshund_03934.jpg  Dachshund_03959.jpg  Dachshund_03988.jpg\n",
      "Dachshund_03935.jpg  Dachshund_03961.jpg  Dachshund_03989.jpg\n",
      "Dachshund_03937.jpg  Dachshund_03962.jpg  Dachshund_03990.jpg\n",
      "Dachshund_03938.jpg  Dachshund_03963.jpg  Dachshund_03992.jpg\n",
      "Dachshund_03939.jpg  Dachshund_03964.jpg  Dachshund_03993.jpg\n",
      "Dachshund_03940.jpg  Dachshund_03965.jpg  Dachshund_03994.jpg\n",
      "Dachshund_03941.jpg  Dachshund_03968.jpg  Dachshund_03998.jpg\n",
      "Dachshund_03942.jpg  Dachshund_03969.jpg  Dachshund_03999.jpg\n",
      "Dachshund_03943.jpg  Dachshund_03970.jpg  Dachshund_04000.jpg\n",
      "Dachshund_03944.jpg  Dachshund_03971.jpg  Dachshund_04001.jpg\n",
      "Dachshund_03945.jpg  Dachshund_03972.jpg  Dachshund_04002.jpg\n",
      "Dachshund_03947.jpg  Dachshund_03974.jpg\n"
     ]
    }
   ],
   "source": [
    "!ls /storage/data/dogImages/train/056.Dachshund/"
   ]
  },
  {
   "cell_type": "markdown",
   "id": "84980b9f-91cd-48a2-8745-e4a2801674a8",
   "metadata": {},
   "source": [
    "## 2. Create datasets"
   ]
  },
  {
   "cell_type": "markdown",
   "id": "6895e023-a6ba-4095-ab5f-7f945c9a1d8e",
   "metadata": {
    "execution": {
     "iopub.execute_input": "2022-06-12T23:18:33.644254Z",
     "iopub.status.busy": "2022-06-12T23:18:33.643984Z",
     "iopub.status.idle": "2022-06-12T23:18:33.650244Z",
     "shell.execute_reply": "2022-06-12T23:18:33.648562Z",
     "shell.execute_reply.started": "2022-06-12T23:18:33.644231Z"
    }
   },
   "source": [
    "How to include only train and valid? The code below didn't work as it tries to find files under /test\n",
    "\n",
    "```python\n",
    "pattern = \"/storage/data/dogImages/(train|valid)/?\\d+\\..*/?\\w+.*\\d+.jpg$\"\n",
    "\n",
    "dls = ImageDataLoaders.from_path_re(\n",
    "                            path=path,\n",
    "                            fnames=get_image_files(path), \n",
    "                            pat=pattern,\n",
    "                            valid_pct=0.2,\n",
    "                            seed=42,\n",
    "                            item_tfms=Resize(224))\n",
    "```\n",
    "\n",
    "Also how can I load pass `label_func=extract_breed`"
   ]
  },
  {
   "cell_type": "code",
   "execution_count": 8,
   "id": "7e4e3e09-8842-492c-8db6-05797f8d70da",
   "metadata": {},
   "outputs": [
    {
     "name": "stdout",
     "output_type": "stream",
     "text": [
      "train  valid\n"
     ]
    }
   ],
   "source": [
    "!ls /storage/data/dogImages"
   ]
  },
  {
   "cell_type": "code",
   "execution_count": 4,
   "id": "ddae5d03-c959-45e4-9dd6-16d757404079",
   "metadata": {},
   "outputs": [],
   "source": [
    "# Create function to extract label\n",
    "def extract_breed(x):\n",
    "    return x.parent.name.split(\".\")[0]"
   ]
  },
  {
   "cell_type": "code",
   "execution_count": 10,
   "id": "ab8d6f61-b066-4ae4-832f-e220e40163b1",
   "metadata": {},
   "outputs": [],
   "source": [
    "from tqdm import tqdm\n",
    "\n",
    "# Create the image loader\n",
    "dls = ImageDataLoaders.from_path_func(\n",
    "    path, get_image_files(path), valid_pct=0.2, seed=42,\n",
    "    label_func=extract_breed, item_tfms=Resize(224))"
   ]
  },
  {
   "cell_type": "markdown",
   "id": "957ee1f7-4b9b-4036-8fc9-0c2460fad1fd",
   "metadata": {},
   "source": [
    "## 3. Setup network architecture"
   ]
  },
  {
   "cell_type": "code",
   "execution_count": 11,
   "id": "79a80e57-437c-4fff-a125-72cef4d16ae8",
   "metadata": {},
   "outputs": [
    {
     "name": "stderr",
     "output_type": "stream",
     "text": [
      "Downloading: \"https://download.pytorch.org/models/resnet34-b627a593.pth\" to /root/.cache/torch/hub/checkpoints/resnet34-b627a593.pth\n"
     ]
    },
    {
     "data": {
      "application/vnd.jupyter.widget-view+json": {
       "model_id": "4477594d4bec47c4bbcf679b88d8136e",
       "version_major": 2,
       "version_minor": 0
      },
      "text/plain": [
       "  0%|          | 0.00/83.3M [00:00<?, ?B/s]"
      ]
     },
     "metadata": {},
     "output_type": "display_data"
    }
   ],
   "source": [
    "# Config the architecture\n",
    "learn = vision_learner(dls, resnet34, metrics=error_rate)"
   ]
  },
  {
   "cell_type": "markdown",
   "id": "28c5a07b-eb5b-4519-a1a6-416a8b801fe7",
   "metadata": {},
   "source": [
    "## 4. Apply transfer learning\n",
    "\n",
    "In this case, only the last layer of Resnet34 is being actually trained."
   ]
  },
  {
   "cell_type": "code",
   "execution_count": 12,
   "id": "a5eeb753-4e2c-4798-b3c7-cf52f781de4c",
   "metadata": {
    "tags": []
   },
   "outputs": [
    {
     "data": {
      "text/html": [
       "<table border=\"1\" class=\"dataframe\">\n",
       "  <thead>\n",
       "    <tr style=\"text-align: left;\">\n",
       "      <th>epoch</th>\n",
       "      <th>train_loss</th>\n",
       "      <th>valid_loss</th>\n",
       "      <th>error_rate</th>\n",
       "      <th>time</th>\n",
       "    </tr>\n",
       "  </thead>\n",
       "  <tbody>\n",
       "    <tr>\n",
       "      <td>0</td>\n",
       "      <td>3.325854</td>\n",
       "      <td>1.033055</td>\n",
       "      <td>0.286677</td>\n",
       "      <td>01:20</td>\n",
       "    </tr>\n",
       "  </tbody>\n",
       "</table>"
      ],
      "text/plain": [
       "<IPython.core.display.HTML object>"
      ]
     },
     "metadata": {},
     "output_type": "display_data"
    },
    {
     "data": {
      "text/html": [
       "<table border=\"1\" class=\"dataframe\">\n",
       "  <thead>\n",
       "    <tr style=\"text-align: left;\">\n",
       "      <th>epoch</th>\n",
       "      <th>train_loss</th>\n",
       "      <th>valid_loss</th>\n",
       "      <th>error_rate</th>\n",
       "      <th>time</th>\n",
       "    </tr>\n",
       "  </thead>\n",
       "  <tbody>\n",
       "    <tr>\n",
       "      <td>0</td>\n",
       "      <td>1.089064</td>\n",
       "      <td>0.694808</td>\n",
       "      <td>0.193862</td>\n",
       "      <td>01:39</td>\n",
       "    </tr>\n",
       "    <tr>\n",
       "      <td>1</td>\n",
       "      <td>0.776623</td>\n",
       "      <td>0.574389</td>\n",
       "      <td>0.172904</td>\n",
       "      <td>01:39</td>\n",
       "    </tr>\n",
       "    <tr>\n",
       "      <td>2</td>\n",
       "      <td>0.582552</td>\n",
       "      <td>0.520074</td>\n",
       "      <td>0.154940</td>\n",
       "      <td>01:39</td>\n",
       "    </tr>\n",
       "    <tr>\n",
       "      <td>3</td>\n",
       "      <td>0.429992</td>\n",
       "      <td>0.526583</td>\n",
       "      <td>0.160180</td>\n",
       "      <td>01:40</td>\n",
       "    </tr>\n",
       "    <tr>\n",
       "      <td>4</td>\n",
       "      <td>0.346401</td>\n",
       "      <td>0.529939</td>\n",
       "      <td>0.152695</td>\n",
       "      <td>01:39</td>\n",
       "    </tr>\n",
       "    <tr>\n",
       "      <td>5</td>\n",
       "      <td>0.268301</td>\n",
       "      <td>0.563499</td>\n",
       "      <td>0.160928</td>\n",
       "      <td>01:39</td>\n",
       "    </tr>\n",
       "    <tr>\n",
       "      <td>6</td>\n",
       "      <td>0.228262</td>\n",
       "      <td>0.620747</td>\n",
       "      <td>0.173653</td>\n",
       "      <td>01:39</td>\n",
       "    </tr>\n",
       "    <tr>\n",
       "      <td>7</td>\n",
       "      <td>0.203995</td>\n",
       "      <td>0.700524</td>\n",
       "      <td>0.193114</td>\n",
       "      <td>01:40</td>\n",
       "    </tr>\n",
       "    <tr>\n",
       "      <td>8</td>\n",
       "      <td>0.188971</td>\n",
       "      <td>0.664253</td>\n",
       "      <td>0.184132</td>\n",
       "      <td>01:40</td>\n",
       "    </tr>\n",
       "    <tr>\n",
       "      <td>9</td>\n",
       "      <td>0.168379</td>\n",
       "      <td>0.746066</td>\n",
       "      <td>0.202096</td>\n",
       "      <td>01:39</td>\n",
       "    </tr>\n",
       "    <tr>\n",
       "      <td>10</td>\n",
       "      <td>0.141824</td>\n",
       "      <td>0.647714</td>\n",
       "      <td>0.163174</td>\n",
       "      <td>01:40</td>\n",
       "    </tr>\n",
       "    <tr>\n",
       "      <td>11</td>\n",
       "      <td>0.111829</td>\n",
       "      <td>0.635308</td>\n",
       "      <td>0.167665</td>\n",
       "      <td>01:40</td>\n",
       "    </tr>\n",
       "    <tr>\n",
       "      <td>12</td>\n",
       "      <td>0.090895</td>\n",
       "      <td>0.766412</td>\n",
       "      <td>0.183383</td>\n",
       "      <td>01:39</td>\n",
       "    </tr>\n",
       "    <tr>\n",
       "      <td>13</td>\n",
       "      <td>0.085261</td>\n",
       "      <td>0.770144</td>\n",
       "      <td>0.183383</td>\n",
       "      <td>01:39</td>\n",
       "    </tr>\n",
       "    <tr>\n",
       "      <td>14</td>\n",
       "      <td>0.078521</td>\n",
       "      <td>0.792002</td>\n",
       "      <td>0.184132</td>\n",
       "      <td>01:40</td>\n",
       "    </tr>\n",
       "    <tr>\n",
       "      <td>15</td>\n",
       "      <td>0.059003</td>\n",
       "      <td>0.783845</td>\n",
       "      <td>0.180389</td>\n",
       "      <td>01:39</td>\n",
       "    </tr>\n",
       "    <tr>\n",
       "      <td>16</td>\n",
       "      <td>0.055379</td>\n",
       "      <td>0.791752</td>\n",
       "      <td>0.178892</td>\n",
       "      <td>01:40</td>\n",
       "    </tr>\n",
       "    <tr>\n",
       "      <td>17</td>\n",
       "      <td>0.035730</td>\n",
       "      <td>0.714697</td>\n",
       "      <td>0.170659</td>\n",
       "      <td>01:39</td>\n",
       "    </tr>\n",
       "    <tr>\n",
       "      <td>18</td>\n",
       "      <td>0.034728</td>\n",
       "      <td>0.736306</td>\n",
       "      <td>0.169162</td>\n",
       "      <td>01:40</td>\n",
       "    </tr>\n",
       "    <tr>\n",
       "      <td>19</td>\n",
       "      <td>0.028905</td>\n",
       "      <td>0.775270</td>\n",
       "      <td>0.171407</td>\n",
       "      <td>01:40</td>\n",
       "    </tr>\n",
       "    <tr>\n",
       "      <td>20</td>\n",
       "      <td>0.019643</td>\n",
       "      <td>0.692786</td>\n",
       "      <td>0.153443</td>\n",
       "      <td>01:39</td>\n",
       "    </tr>\n",
       "    <tr>\n",
       "      <td>21</td>\n",
       "      <td>0.017022</td>\n",
       "      <td>0.685416</td>\n",
       "      <td>0.151946</td>\n",
       "      <td>01:40</td>\n",
       "    </tr>\n",
       "    <tr>\n",
       "      <td>22</td>\n",
       "      <td>0.012389</td>\n",
       "      <td>0.678394</td>\n",
       "      <td>0.149701</td>\n",
       "      <td>01:39</td>\n",
       "    </tr>\n",
       "    <tr>\n",
       "      <td>23</td>\n",
       "      <td>0.012621</td>\n",
       "      <td>0.682412</td>\n",
       "      <td>0.162425</td>\n",
       "      <td>01:39</td>\n",
       "    </tr>\n",
       "    <tr>\n",
       "      <td>24</td>\n",
       "      <td>0.011737</td>\n",
       "      <td>0.655286</td>\n",
       "      <td>0.152695</td>\n",
       "      <td>01:39</td>\n",
       "    </tr>\n",
       "    <tr>\n",
       "      <td>25</td>\n",
       "      <td>0.008429</td>\n",
       "      <td>0.653797</td>\n",
       "      <td>0.152695</td>\n",
       "      <td>01:39</td>\n",
       "    </tr>\n",
       "    <tr>\n",
       "      <td>26</td>\n",
       "      <td>0.006916</td>\n",
       "      <td>0.651914</td>\n",
       "      <td>0.148204</td>\n",
       "      <td>01:40</td>\n",
       "    </tr>\n",
       "    <tr>\n",
       "      <td>27</td>\n",
       "      <td>0.006300</td>\n",
       "      <td>0.656897</td>\n",
       "      <td>0.151198</td>\n",
       "      <td>01:39</td>\n",
       "    </tr>\n",
       "    <tr>\n",
       "      <td>28</td>\n",
       "      <td>0.004370</td>\n",
       "      <td>0.642217</td>\n",
       "      <td>0.148204</td>\n",
       "      <td>01:40</td>\n",
       "    </tr>\n",
       "    <tr>\n",
       "      <td>29</td>\n",
       "      <td>0.004877</td>\n",
       "      <td>0.647419</td>\n",
       "      <td>0.150449</td>\n",
       "      <td>02:01</td>\n",
       "    </tr>\n",
       "  </tbody>\n",
       "</table>"
      ],
      "text/plain": [
       "<IPython.core.display.HTML object>"
      ]
     },
     "metadata": {},
     "output_type": "display_data"
    }
   ],
   "source": [
    "# Transfer learning\n",
    "learn.fine_tune(30)"
   ]
  },
  {
   "cell_type": "code",
   "execution_count": 13,
   "id": "cfef567f-e7b8-40e8-939e-19427de198b3",
   "metadata": {},
   "outputs": [],
   "source": [
    "import pickle\n",
    "\n",
    "pickle.dump(learn, open(\"doggo-resnet34.p\", \"wb\"))"
   ]
  },
  {
   "cell_type": "markdown",
   "id": "b80b311b-5a8a-4dc2-a43b-93c04bbd6c04",
   "metadata": {},
   "source": [
    "## Testing the image classifier"
   ]
  },
  {
   "cell_type": "code",
   "execution_count": 38,
   "id": "c0e3bdd7-e0a1-42f1-bdcb-fc5b47436197",
   "metadata": {},
   "outputs": [],
   "source": [
    "### Load all valid classes\n",
    "import glob\n",
    "import re\n",
    "from collections import defaultdict\n",
    "from dataclasses import dataclass\n",
    "\n",
    "\n",
    "@dataclass\n",
    "class Breed:\n",
    "    _id: str\n",
    "    name: str\n",
    "    image_sample_path: str\n",
    "\n",
    "class_to_breed = defaultdict(str)\n",
    "\n",
    "breed_paths = glob.glob(\"/storage/data/dogImages/train/*/*\")\n",
    "\n",
    "for path in breed_paths:\n",
    "    match = re.match(\"/storage/data/dogImages/train/?(\\d+\\..*)/.*\", path)\n",
    "    \n",
    "    _class, name = match.group(1).split(\".\")\n",
    "    class_to_breed[_class] = Breed(_id=_class, name=name, image_sample_path=match.group(0))"
   ]
  },
  {
   "cell_type": "code",
   "execution_count": 5,
   "id": "4005d5c7-ea50-4aab-b04d-85f0e0ee6200",
   "metadata": {},
   "outputs": [],
   "source": [
    "import pickle\n",
    "\n",
    "learn = pickle.load(open(\"doggo-resnet34.p\", \"rb\"))"
   ]
  },
  {
   "cell_type": "code",
   "execution_count": 6,
   "id": "353329c8-9e2d-46d4-9c24-26e9f3fa7089",
   "metadata": {
    "tags": []
   },
   "outputs": [
    {
     "data": {
      "application/vnd.jupyter.widget-view+json": {
       "model_id": "5a5bc56d2585489380951d20415a1687",
       "version_major": 2,
       "version_minor": 0
      },
      "text/plain": [
       "FileUpload(value={}, description='Upload')"
      ]
     },
     "metadata": {},
     "output_type": "display_data"
    }
   ],
   "source": [
    "#hide_output\n",
    "import ipywidgets as widgets\n",
    "\n",
    "\n",
    "uploader = widgets.FileUpload()\n",
    "display(uploader)"
   ]
  },
  {
   "cell_type": "code",
   "execution_count": 70,
   "id": "517cc8b4-3ac0-44c5-9373-c25534896af9",
   "metadata": {
    "tags": []
   },
   "outputs": [
    {
     "name": "stdout",
     "output_type": "stream",
     "text": [
      "Input image:\n",
      "\n"
     ]
    },
    {
     "data": {
      "image/png": "[encoded data removed]",
      "text/plain": [
       "<PIL.Image.Image image mode=RGB size=128x65 at 0x7FC0F43FC250>"
      ]
     },
     "execution_count": 70,
     "metadata": {},
     "output_type": "execute_result"
    }
   ],
   "source": [
    "print(\"Input image:\\n\")\n",
    "img = PILImage.create(uploader.data[-1])\n",
    "img.to_thumb(128,128)"
   ]
  },
  {
   "cell_type": "code",
   "execution_count": 71,
   "id": "b918f815-edb1-4626-acf4-36bd10c0e96d",
   "metadata": {
    "jupyter": {
     "source_hidden": true
    },
    "tags": []
   },
   "outputs": [
    {
     "data": {
      "text/html": [],
      "text/plain": [
       "<IPython.core.display.HTML object>"
      ]
     },
     "metadata": {},
     "output_type": "display_data"
    }
   ],
   "source": [
    "img = PILImage.create(uploader.data[0])\n",
    "predicted_breed_id = learn.predict(img)[0]\n",
    "predicted_breed = class_to_breed[predicted_breed_id]"
   ]
  },
  {
   "cell_type": "code",
   "execution_count": 72,
   "id": "3c7d3248-5577-414f-a1d8-6d015637af79",
   "metadata": {},
   "outputs": [
    {
     "name": "stdout",
     "output_type": "stream",
     "text": [
      "Predicted breed:\n",
      "\n"
     ]
    },
    {
     "data": {
      "text/plain": [
       "'Dachshund'"
      ]
     },
     "execution_count": 72,
     "metadata": {},
     "output_type": "execute_result"
    }
   ],
   "source": [
    "print(\"Predicted breed:\\n\")\n",
    "predicted_breed.name"
   ]
  },
  {
   "cell_type": "code",
   "execution_count": 65,
   "id": "9d4ca243-e3d8-4930-ac73-bda65cc38d87",
   "metadata": {
    "jupyter": {
     "source_hidden": true
    },
    "tags": []
   },
   "outputs": [
    {
     "data": {
      "image/png": "[encoded data removed]",
      "text/plain": [
       "<PIL.Image.Image image mode=RGB size=128x96 at 0x7FC0F3F487D0>"
      ]
     },
     "execution_count": 65,
     "metadata": {},
     "output_type": "execute_result"
    }
   ],
   "source": [
    "handler = SimpleNamespace(data=[predicted_breed.image_sample_path])\n",
    "sample_img = PILImage.create(handler.data[-1])\n",
    "sample_img.to_thumb(128,128)"
   ]
  },
  {
   "cell_type": "code",
   "execution_count": null,
   "id": "f6b3c2d8-fa32-4aef-b182-e7107e5eed16",
   "metadata": {},
   "outputs": [],
   "source": []
  }
 ],
 "metadata": {
  "kernelspec": {
   "display_name": "Python 3 (ipykernel)",
   "language": "python",
   "name": "python3"
  },
  "language_info": {
   "codemirror_mode": {
    "name": "ipython",
    "version": 3
   },
   "file_extension": ".py",
   "mimetype": "text/x-python",
   "name": "python",
   "nbconvert_exporter": "python",
   "pygments_lexer": "ipython3",
   "version": "3.7.11"
  }
 },
 "nbformat": 4,
 "nbformat_minor": 5
}
